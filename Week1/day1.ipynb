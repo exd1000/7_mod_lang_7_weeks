{
 "cells": [
  {
   "cell_type": "code",
   "execution_count": null,
   "metadata": {},
   "outputs": [],
   "source": [
    "import numpy as np \n",
    "import pandas as pd \n",
    "import matplotlib.pyplot as plt \n",
    "import seaborn as sns \n",
    "import sklearn"
   ]
  },
  {
   "cell_type": "markdown",
   "metadata": {},
   "source": [
    "### Variables, Conditionals, Loops"
   ]
  },
  {
   "cell_type": "code",
   "execution_count": 10,
   "metadata": {},
   "outputs": [],
   "source": [
    "# variables \n",
    "\n",
    "name = 'Alice'\n",
    "age = 32\n",
    "has_data = True"
   ]
  },
  {
   "cell_type": "code",
   "execution_count": null,
   "metadata": {},
   "outputs": [
    {
     "name": "stdout",
     "output_type": "stream",
     "text": [
      "You're experienced\n"
     ]
    }
   ],
   "source": [
    "# conditionals \n",
    "\n",
    "if age > 30: \n",
    "    print('You\\'re experienced')\n",
    "elif age > 20:\n",
    "    print('You\\'re getting there')\n",
    "else: \n",
    "    print('Still young')\n",
    "    \n",
    "    \n",
    "    \n",
    "# ternary conditional \n",
    "message = 'Yes' if has_data else 'No'"
   ]
  },
  {
   "cell_type": "code",
   "execution_count": 14,
   "metadata": {},
   "outputs": [
    {
     "name": "stdout",
     "output_type": "stream",
     "text": [
      "score: 98\n",
      "score: 87\n",
      "score: 92\n",
      "score: 100\n",
      "looping...\n",
      "looping...\n",
      "looping...\n"
     ]
    }
   ],
   "source": [
    "# loops \n",
    "\n",
    "\n",
    "# for loops \n",
    "data_points = [98,87,92,100]\n",
    "for score in data_points:\n",
    "    print(f'score: {score}')\n",
    "\n",
    "\n",
    "# while loops\n",
    "counter = 0 \n",
    "while counter < 3:\n",
    "    print('looping...')\n",
    "    counter += 1"
   ]
  },
  {
   "cell_type": "code",
   "execution_count": null,
   "metadata": {},
   "outputs": [
    {
     "name": "stdout",
     "output_type": "stream",
     "text": [
      "45: Needs Improvement\n",
      "78: Good\n",
      "88: Excellent\n",
      "92: Excellent\n",
      "30: Needs Improvement\n"
     ]
    }
   ],
   "source": [
    "# real world examples \n",
    "\n",
    "\n",
    "scores = [45,78,88,92,30]\n",
    "for score in scores:\n",
    "    if score >= 85:\n",
    "        print(f'{score}: Excellent')\n",
    "    elif score >= 60: \n",
    "        print(f'{score}: Good')\n",
    "    else:\n",
    "        print(f'{score}: Needs Improvement')"
   ]
  },
  {
   "cell_type": "markdown",
   "metadata": {},
   "source": [
    "### Exercises"
   ]
  },
  {
   "cell_type": "code",
   "execution_count": null,
   "metadata": {},
   "outputs": [
    {
     "name": "stdout",
     "output_type": "stream",
     "text": [
      "Hot\n"
     ]
    }
   ],
   "source": [
    "# Ex1: basic if/else \n",
    "\n",
    "# Write a script that takes a variable temperature \n",
    "# and prints if it’s hot (>30°C), warm (15-30°C), or cold (<15°C).\n",
    "\n",
    "temp = 31\n",
    "\n",
    "if temp > 30: \n",
    "    print('Hot')\n",
    "elif temp >= 15 and temp <=30:\n",
    "    print('Warm')\n",
    "else:\n",
    "    print('Cold')\n",
    "\n",
    "\n",
    "'''\n",
    "Correct & clear.\n",
    "Nice use of >= and <= in elif. You could simplify the condition slightly (elif 15 <= temp <= 30:) for more Pythonic style.\n",
    "Tip: Python allows chained comparisons.\n",
    "\n",
    "'''\n"
   ]
  },
  {
   "cell_type": "code",
   "execution_count": null,
   "metadata": {},
   "outputs": [
    {
     "name": "stdout",
     "output_type": "stream",
     "text": [
      "Night\n"
     ]
    }
   ],
   "source": [
    "# Ex2: multi-condition\n",
    "\n",
    "# Create a variable hour (0–23). \n",
    "# Print whether it’s “Morning”, “Afternoon”, “Evening”, or “Night”.\n",
    "\n",
    "hour = 20 \n",
    "\n",
    "if hour >= 6 and hour <= 11:\n",
    "    print('Morning')\n",
    "elif hour >= 12 and hour <= 15:\n",
    "    print('Afternoon')\n",
    "elif hour <=18 and hour > 15: \n",
    "    print('Evening')\n",
    "else:\n",
    "    print('Night')\n",
    "\n",
    "'''\n",
    "Logic is spot-on.\n",
    "You could tighten the elif statements: elif 12 <= hour <= 15:\n",
    "\n",
    "'''"
   ]
  },
  {
   "cell_type": "code",
   "execution_count": null,
   "metadata": {},
   "outputs": [
    {
     "name": "stdout",
     "output_type": "stream",
     "text": [
      "Tokyo is a major city\n",
      "Paris is a major city\n",
      "New York is a major city\n"
     ]
    }
   ],
   "source": [
    "# Ex3: looping through data \n",
    "\n",
    "# Given list loop through and print:\n",
    "# \"Tokyo is a major city.\", and so on.\n",
    "\n",
    "\n",
    "cities = [\"Tokyo\", \"Paris\", \"New York\"]\n",
    "\n",
    "for city in cities: \n",
    "    print(f'{city} is a major city')\n",
    "    \n",
    "    \n",
    "''' \n",
    "Perfect.\n",
    "Well-structured loop with f-strings. \n",
    "Consider pluralizing the message for a more natural tone:\n",
    "print(f\"{city} is one of the world's major cities.\")\n",
    "\n",
    "'''"
   ]
  },
  {
   "cell_type": "code",
   "execution_count": null,
   "metadata": {},
   "outputs": [
    {
     "name": "stdout",
     "output_type": "stream",
     "text": [
      "Strong\n",
      "Average\n",
      "Top tier\n",
      "Average\n",
      "Needs review\n"
     ]
    }
   ],
   "source": [
    "# Ex4: data classification \n",
    "\n",
    "# Given data write loop that prints: \n",
    "''' \t90+: “Top-tier”\n",
    "        75-89: “Strong”\n",
    "        50-74: “Average”\n",
    "        Below 50: “Needs review”\n",
    "'''\n",
    "\n",
    "research_scores = [88, 74, 95, 67, 40]\n",
    "\n",
    "for score in research_scores: \n",
    "    if score >= 90: \n",
    "        print('Top tier')\n",
    "    elif score <= 89 and score >= 75:\n",
    "        print('Strong')\n",
    "    elif score <= 74 and score >= 50:\n",
    "        print('Average')\n",
    "    else:\n",
    "        print('Needs review')\n",
    "        \n",
    "        \n",
    "'''\n",
    "Your logic is solid, and the flow of conditions is correct.\n",
    "\n",
    "Tiny Feedback:\n",
    "- The label Top tier should match \"Top-tier\" as per instructions \n",
    "(not a big deal but watch for formatting if required in output specs).\n",
    "- Same with \"Needs review\" vs Needs review \n",
    "(quotes are just visual, so no real issue here unless required for serialization).\n",
    "'''\n"
   ]
  },
  {
   "cell_type": "code",
   "execution_count": null,
   "metadata": {},
   "outputs": [
    {
     "name": "stdout",
     "output_type": "stream",
     "text": [
      "Alice: Strong\n",
      "Bob: Average\n",
      "Charlie: Top tier\n",
      "Diana: Needs review\n"
     ]
    }
   ],
   "source": [
    "# Ex5: open-ended challenge \n",
    "\n",
    "# Loop through a dictionary of test results:\n",
    "''' Print report like: \n",
    "    Alice: Strong\n",
    "    Bob: Average\n",
    "    Charlie: Top-tier\n",
    "    Diana: Needs review\n",
    "'''\n",
    "\n",
    "\n",
    "test_results = {\n",
    "    \"Alice\": 89,\n",
    "    \"Bob\": 56,\n",
    "    \"Charlie\": 92,\n",
    "    \"Diana\": 33 }\n",
    "\n",
    "\n",
    "    \n",
    "\n",
    "for key,value in test_results.items():\n",
    "    if value >= 90: \n",
    "        print(f'{key}: Top tier')\n",
    "    elif value <= 89 and value >= 75:\n",
    "        print(f'{key}: Strong')\n",
    "    elif value <= 74 and value >= 50:\n",
    "        print(f'{key}: Average')\n",
    "    else:\n",
    "        print(f'{key}: Needs review')\n",
    "        \n",
    "        \n",
    "''' \n",
    "You nailed the logic.\n",
    "Great use of .items() and formatted output!\n",
    "Style Tip: You can reuse the classification logic from Exercise 4 \n",
    "by defining a helper function \n",
    "(we'll revisit this when we hit functions soon!).\n",
    "\n",
    "'''       \n",
    "\n",
    "\n"
   ]
  },
  {
   "cell_type": "code",
   "execution_count": null,
   "metadata": {},
   "outputs": [],
   "source": []
  }
 ],
 "metadata": {
  "kernelspec": {
   "display_name": "Python 3",
   "language": "python",
   "name": "python3"
  },
  "language_info": {
   "codemirror_mode": {
    "name": "ipython",
    "version": 3
   },
   "file_extension": ".py",
   "mimetype": "text/x-python",
   "name": "python",
   "nbconvert_exporter": "python",
   "pygments_lexer": "ipython3",
   "version": "3.11.11"
  }
 },
 "nbformat": 4,
 "nbformat_minor": 2
}
